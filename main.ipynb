{
 "cells": [
  {
   "cell_type": "code",
   "execution_count": 30,
   "metadata": {},
   "outputs": [
    {
     "data": {
      "text/plain": [
       "True"
      ]
     },
     "execution_count": 30,
     "metadata": {},
     "output_type": "execute_result"
    }
   ],
   "source": [
    "import imaplib, email, os, json\n",
    "from email.header import decode_header\n",
    "\n",
    "from dotenv import load_dotenv\n",
    "from langchain import LLMChain\n",
    "from langchain_openai import ChatOpenAI\n",
    "from langchain.prompts import PromptTemplate\n",
    "load_dotenv()"
   ]
  },
  {
   "cell_type": "markdown",
   "metadata": {},
   "source": [
    "login"
   ]
  },
  {
   "cell_type": "code",
   "execution_count": 31,
   "metadata": {},
   "outputs": [
    {
     "data": {
      "text/plain": [
       "('OK', [b'LOGIN completed'])"
      ]
     },
     "execution_count": 31,
     "metadata": {},
     "output_type": "execute_result"
    }
   ],
   "source": [
    "IMAP_SERVER = 'imap.gmx.com'\n",
    "IMAP_PORT = 993\n",
    "EMAIL_ACCOUNT = os.environ['EMAIL']\n",
    "EMAIL_PASSWORD = os.environ['EMAIL_PASSWORD']\n",
    "mail = imaplib.IMAP4_SSL(IMAP_SERVER, IMAP_PORT)\n",
    "mail.login(EMAIL_ACCOUNT, EMAIL_PASSWORD)"
   ]
  },
  {
   "cell_type": "code",
   "execution_count": 32,
   "metadata": {},
   "outputs": [],
   "source": [
    "mail.select('INBOX')\n",
    "status, messages = mail.search(None, 'ALL')\n",
    "email_ids = messages[0].split()\n",
    "email_ids = [int(eid) for eid in email_ids]"
   ]
  },
  {
   "cell_type": "code",
   "execution_count": 33,
   "metadata": {},
   "outputs": [],
   "source": [
    "def get_email_body(msg):\n",
    "    body = \"\"\n",
    "    if msg.is_multipart():\n",
    "        # If multipart, iterate through the parts\n",
    "        for part in msg.walk():\n",
    "            # Check if the content type is text/plain or text/html\n",
    "            content_type = part.get_content_type()\n",
    "            content_disposition = str(part.get(\"Content-Disposition\"))\n",
    "\n",
    "            if content_type == \"text/plain\" and \"attachment\" not in content_disposition:\n",
    "                # Extract plain text\n",
    "                body = part.get_payload(decode=True).decode(part.get_content_charset() or \"utf-8\")\n",
    "                break\n",
    "            elif content_type == \"text/html\" and \"attachment\" not in content_disposition:\n",
    "                # Extract HTML\n",
    "                body = part.get_payload(decode=True).decode(part.get_content_charset() or \"utf-8\")\n",
    "    else:\n",
    "        # If not multipart, check the content type\n",
    "        content_type = msg.get_content_type()\n",
    "        if content_type == \"text/plain\" or content_type == \"text/html\":\n",
    "            body = msg.get_payload(decode=True).decode(msg.get_content_charset() or \"utf-8\")\n",
    "    return str(body)"
   ]
  },
  {
   "cell_type": "code",
   "execution_count": 34,
   "metadata": {},
   "outputs": [],
   "source": [
    "llm = ChatOpenAI(model = 'gpt-4o-mini', temperature=0)\n",
    "\n",
    "classification_prompt = PromptTemplate.from_template(\n",
    "    '''\n",
    "        Task:\n",
    "        You are my (florian kenner's) personal assistant who is instructed to cleanup his mailbox. Rate the following email, whether to keep or delete it. You want to generally delete all emails which will not be of any importance in the future, such as ads, spam, newsletters outdated information, such as one time authentication codes etc.\n",
    "        Keep all emails which are personal communications, bookings, invoices, important notifications etc.\n",
    "        If you are not totally sure, keep the email.\n",
    "\n",
    "        Email Title: {header}\n",
    "        Email Sender: {sender}\n",
    "        Date: {date}\n",
    "        Email Content: {content}\n",
    "\n",
    "\n",
    "           Format of Expected Output: Please provide your classification and justification in the following structured format:\n",
    "            {{\n",
    "                \"classification\": \"KEEP\" or \"DELETE\",\n",
    "                \"justification\": \"A one short sentence explanation of why you made this classification based on the provided email\"\n",
    "            }}\n",
    "    '''\n",
    ")"
   ]
  },
  {
   "cell_type": "code",
   "execution_count": 35,
   "metadata": {},
   "outputs": [],
   "source": [
    "BACKUP_FOLDER = \"./email_backups\"\n",
    "import os\n",
    "import re\n",
    "import json\n",
    "\n",
    "BACKUP_FOLDER = \"./email_backups\"\n",
    "\n",
    "def save_email_backup(email_id, message, metadata):\n",
    "    # Create backup folder if it doesn't exist\n",
    "    os.makedirs(BACKUP_FOLDER, exist_ok=True)\n",
    "\n",
    "    # Sanitize and shorten subject\n",
    "    subject = ''.join(c for c in metadata[\"subject\"][:50] if c.isalnum())\n",
    "    subject = re.sub(r'[<>:\"/\\\\|?*\\r\\n]+', '_', subject)\n",
    "\n",
    "    # Save raw email content as .eml\n",
    "    filename = f\"{BACKUP_FOLDER}/{email_id}_{subject}.eml\"\n",
    "    with open(filename, 'wb') as out:  # Binary mode for raw email\n",
    "        out.write(message.as_bytes())  # Save raw bytes of email\n",
    "\n",
    "    # Encode the body to handle special characters\n",
    "    metadata[\"body\"] = re.sub(r'[^\\x00-\\x7F]+', '', metadata[\"body\"]).encode('utf-8', 'replace').decode('utf-8')\n",
    "    # Save metadata as .json\n",
    "    json_filename = f\"{BACKUP_FOLDER}/{email_id}_{subject}.json\"\n",
    "    with open(json_filename, \"w\", encoding = 'utf-8') as f:\n",
    "        json.dump(metadata, f, ensure_ascii=False)\n",
    "\n",
    "    save_attachments(message)\n",
    "\n",
    "def save_attachments(msg, folder=\"./attachments\"):\n",
    "    os.makedirs(folder, exist_ok=True)\n",
    "\n",
    "    for part in msg.walk():\n",
    "        if part.get_content_disposition() == \"attachment\":\n",
    "            filename = part.get_filename()\n",
    "            filename = re.sub(r'[<>:\"/\\\\|?*\\r\\n]+', '_', filename)\n",
    "            if filename:\n",
    "                filepath = os.path.join(folder, filename)\n",
    "                with open(filepath, \"wb\") as f:\n",
    "                    f.write(part.get_payload(decode=True))\n",
    "    "
   ]
  },
  {
   "cell_type": "markdown",
   "metadata": {},
   "source": [
    "classify and delete"
   ]
  },
  {
   "cell_type": "code",
   "execution_count": null,
   "metadata": {},
   "outputs": [
    {
     "name": "stderr",
     "output_type": "stream",
     "text": [
      "  2%|▏         | 103/5572 [00:30<1:29:36,  1.02it/s]"
     ]
    }
   ],
   "source": [
    "from tqdm import tqdm\n",
    "\n",
    "deleted = 0\n",
    "kept = 0\n",
    "checked = set()\n",
    "\n",
    "if os.path.exists('./checked.txt'):\n",
    "    with open('./checked.txt') as f:\n",
    "        content = f.read()\n",
    "        checked = set(json.loads(content))\n",
    "\n",
    "for id in tqdm(email_ids):\n",
    "    if id in checked: \n",
    "        continue\n",
    "\n",
    "    _, msg_data = mail.fetch(str(id), '(RFC822)')\n",
    "    message = email.message_from_bytes(msg_data[0][1])\n",
    "    subject, encoding = decode_header(message['subject'])[0]\n",
    "    if isinstance(subject, bytes):\n",
    "        subject = subject.decode(encoding if encoding else \"utf-8\")\n",
    "\n",
    "    sender = message.get('FROM')\n",
    "    date = message.get('Date')\n",
    "    body = get_email_body(message)\n",
    "\n",
    "    \n",
    "\n",
    "    # Save the email to the folder email_backup\n",
    "    save_email_backup(id, message, {\n",
    "    \"email_id\": id,\n",
    "    \"subject\": str(subject),\n",
    "    \"sender\": str(sender),\n",
    "    \"date\": str(date),\n",
    "    \"body\": body\n",
    "})\n",
    "\n",
    "\n",
    "    agent = LLMChain(llm = llm, prompt = classification_prompt)\n",
    "\n",
    "    result_raw = agent.invoke({\n",
    "        'header': subject,\n",
    "        'sender': sender,\n",
    "        'date': date,\n",
    "        'content': body\n",
    "    })\n",
    "    result_str = result_raw.get('text', '')\n",
    "    result = json.loads(result_str)\n",
    "    \n",
    "    if result['classification'] == 'DELETE':\n",
    "        mail.store(str(id), '+FLAGS', '\\\\Deleted')\n",
    "\n",
    "        mail.expunge()\n",
    "        deleted += 1\n",
    "    else:\n",
    "        kept += 1\n",
    "\n",
    "    checked.add(id)\n",
    "\n",
    "    with open('checked.txt', 'w') as f:\n",
    "        f.write(json.dumps(list(checked)))"
   ]
  },
  {
   "cell_type": "code",
   "execution_count": null,
   "metadata": {},
   "outputs": [],
   "source": [
    "metadata = {'email_id': 54, 'subject': 'Ihr Steam-Account: Verifizierung der E-Mail-Adresse', 'sender': '<email.header.Header object at 0x00000244BA6266E0>', 'date': 'Sun, 24 Sep 2017 07:14:48 -0700', 'body': '\\r\\nHallo flo_2k03,\\r\\n\\r\\n\\r\\nUm die Sicherheit Ihres Steam-Accounts zu gewhrleisten, verifizieren Sie bitte Ihre E-Mail-Adresse.\\r\\n<a href=\"https://steamcommunity.com/actions/validateemail?stoken=388081856_17137655_BBB8C1E55314561BA89241B42259058D04A1E462\">Klicken Sie hier, um Ihre E-Mail-Adresse zu verifizieren.</a>\\r\\n\\r\\nWenn Sie Ihre E-Mail-Adresse verifizieren, knnen Sie: Sicherheit durch Steam Guard nutzen, Ihre Steam-Anmeldedaten ndern, Handels- und Marktbesttigungen benutzen und den Zugriff auf Ihren Steam-Account wiedererlangen, wenn Sie ihn verlieren oder Ihr Passwort vergessen sollten.\\r\\n\\r\\nVielen Dank, dass Sie uns dabei helfen, die Sicherheit Ihres Accounts sicherzustellen.\\r\\n\\r\\n\\r\\nDas Team von Steam\\r\\nhttps://help.steampowered.com\\r\\n\\r\\n\\r\\n\\r\\n==============\\r\\nDiese Benachrichtigung wurde an die mit Ihrem Steam-Account verknpfte E-Mail-Adresse gesendet.\\r\\nWeitere Informationen zu den Datenschutzrichtlinien von Valve finden Sie unter: http://www.valvesoftware.com/privacy.htm\\r\\nBitte antworten Sie nicht auf diese automatisch generierte E-Mail.\\r\\n\\r\\n Valve Corporation. Alle Rechte vorbehalten. Alle Marken sind Eigentum ihrer jeweiligen Besitzer in den USA und anderen Lndern.\\r\\n\\r\\n'}"
   ]
  },
  {
   "cell_type": "code",
   "execution_count": null,
   "metadata": {},
   "outputs": [],
   "source": [
    "with open('./a.json', 'w') as f:\n",
    "    json.dump(metadata, f)"
   ]
  }
 ],
 "metadata": {
  "kernelspec": {
   "display_name": "Python 3",
   "language": "python",
   "name": "python3"
  },
  "language_info": {
   "codemirror_mode": {
    "name": "ipython",
    "version": 3
   },
   "file_extension": ".py",
   "mimetype": "text/x-python",
   "name": "python",
   "nbconvert_exporter": "python",
   "pygments_lexer": "ipython3",
   "version": "3.10.0"
  }
 },
 "nbformat": 4,
 "nbformat_minor": 2
}
