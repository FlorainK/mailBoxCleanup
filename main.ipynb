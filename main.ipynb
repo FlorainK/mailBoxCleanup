{
 "cells": [
  {
   "cell_type": "code",
   "execution_count": 44,
   "metadata": {},
   "outputs": [
    {
     "data": {
      "text/plain": [
       "True"
      ]
     },
     "execution_count": 44,
     "metadata": {},
     "output_type": "execute_result"
    }
   ],
   "source": [
    "import imaplib, email, os, json\n",
    "from email.header import decode_header\n",
    "\n",
    "from dotenv import load_dotenv\n",
    "from langchain import LLMChain\n",
    "from langchain_openai import ChatOpenAI\n",
    "from langchain.prompts import PromptTemplate\n",
    "load_dotenv()"
   ]
  },
  {
   "cell_type": "markdown",
   "metadata": {},
   "source": [
    "login"
   ]
  },
  {
   "cell_type": "code",
   "execution_count": 45,
   "metadata": {},
   "outputs": [
    {
     "data": {
      "text/plain": [
       "('OK', [b'LOGIN completed'])"
      ]
     },
     "execution_count": 45,
     "metadata": {},
     "output_type": "execute_result"
    }
   ],
   "source": [
    "IMAP_SERVER = 'imap.gmx.com'\n",
    "IMAP_PORT = 993\n",
    "EMAIL_ACCOUNT = os.environ['EMAIL']\n",
    "EMAIL_PASSWORD = os.environ['EMAIL_PASSWORD']\n",
    "mail = imaplib.IMAP4_SSL(IMAP_SERVER, IMAP_PORT)\n",
    "mail.login(EMAIL_ACCOUNT, EMAIL_PASSWORD)"
   ]
  },
  {
   "cell_type": "code",
   "execution_count": 55,
   "metadata": {},
   "outputs": [],
   "source": [
    "mail.select('INBOX')\n",
    "status, messages = mail.search(None, 'ALL')\n",
    "email_ids = messages[0].split()\n",
    "email_ids = [int(eid) for eid in email_ids]"
   ]
  },
  {
   "cell_type": "code",
   "execution_count": 38,
   "metadata": {},
   "outputs": [],
   "source": [
    "def get_email_body(msg):\n",
    "    body = \"\"\n",
    "    if msg.is_multipart():\n",
    "        # If multipart, iterate through the parts\n",
    "        for part in msg.walk():\n",
    "            # Check if the content type is text/plain or text/html\n",
    "            content_type = part.get_content_type()\n",
    "            content_disposition = str(part.get(\"Content-Disposition\"))\n",
    "\n",
    "            if content_type == \"text/plain\" and \"attachment\" not in content_disposition:\n",
    "                # Extract plain text\n",
    "                body = part.get_payload(decode=True).decode(part.get_content_charset() or \"utf-8\")\n",
    "                break\n",
    "            elif content_type == \"text/html\" and \"attachment\" not in content_disposition:\n",
    "                # Extract HTML\n",
    "                body = part.get_payload(decode=True).decode(part.get_content_charset() or \"utf-8\")\n",
    "    else:\n",
    "        # If not multipart, check the content type\n",
    "        content_type = msg.get_content_type()\n",
    "        if content_type == \"text/plain\" or content_type == \"text/html\":\n",
    "            body = msg.get_payload(decode=True).decode(msg.get_content_charset() or \"utf-8\")\n",
    "    return body"
   ]
  },
  {
   "cell_type": "code",
   "execution_count": 39,
   "metadata": {},
   "outputs": [],
   "source": [
    "llm = ChatOpenAI(model = 'gpt-4-turbo', temperature=0)\n",
    "\n",
    "classification_prompt = PromptTemplate.from_template(\n",
    "    '''\n",
    "        Task:\n",
    "        You are my (florian kenner's) personal assistant who is instructed to cleanup his mailbox. Rate the following email, whether to keep or delete it. You want to generally delete all emails which will not be of any importance in the future, such as ads, spam, newsletters outdated information, such as one time authentication codes etc.\n",
    "        Keep all emails which are personal communications, bookings, invoices, important notifications etc.\n",
    "        If you are not totally sure, keep the email.\n",
    "\n",
    "        Email Title: {header}\n",
    "        Email Sender: {sender}\n",
    "        Date: {date}\n",
    "        Email Content: {content}\n",
    "\n",
    "\n",
    "           Format of Expected Output: Please provide your classification and justification in the following structured format:\n",
    "            {{\n",
    "                \"classification\": \"KEEP\" or \"DELETE\",\n",
    "                \"justification\": \"A one short sentence explanation of why you made this classification based on the provided email\"\n",
    "            }}\n",
    "    '''\n",
    ")"
   ]
  },
  {
   "cell_type": "code",
   "execution_count": 64,
   "metadata": {},
   "outputs": [],
   "source": [
    "BACKUP_FOLDER = \"./email_backups\"\n",
    "\n",
    "def save_email_backup(email_id, message, metadata):\n",
    "    \"\"\"\n",
    "    Save email as a raw .eml file and metadata as a .json file.\n",
    "    \"\"\"\n",
    "    # Create backup folder if not exists\n",
    "    os.makedirs(BACKUP_FOLDER, exist_ok=True)\n",
    "\n",
    "    # File names (sanitize subject to avoid invalid characters in file name)\n",
    "    subject = metadata[\"subject\"][:50].replace(\"/\", \"_\").replace(\"\\\\\", \"_\")\n",
    "    eml_file = os.path.join(BACKUP_FOLDER, f\"{email_id}_{subject}.eml\")\n",
    "    json_file = os.path.join(BACKUP_FOLDER, f\"{email_id}_{subject}.json\")\n",
    "\n",
    "    # Save raw email content as .eml\n",
    "    with open(eml_file, \"wb\") as f:\n",
    "        f.write(message.as_bytes())\n",
    "\n",
    "    # Save metadata as .json\n",
    "    with open(json_file, \"w\", encoding=\"utf-8\") as f:\n",
    "        json.dump(metadata, f, indent=4, ensure_ascii=False)"
   ]
  },
  {
   "cell_type": "markdown",
   "metadata": {},
   "source": [
    "classify and delete"
   ]
  },
  {
   "cell_type": "code",
   "execution_count": 66,
   "metadata": {},
   "outputs": [
    {
     "name": "stdout",
     "output_type": "stream",
     "text": [
      "KEEP\n"
     ]
    }
   ],
   "source": [
    "for id in email_ids[:1]:\n",
    "    _, msg_data = mail.fetch(str(id), '(RFC822)')\n",
    "    message = email.message_from_bytes(msg_data[0][1])\n",
    "    subject, encoding = decode_header(message['subject'])[0]\n",
    "    if isinstance(subject, bytes):\n",
    "        subject = subject.decode(encoding if encoding else \"utf-8\")\n",
    "\n",
    "    sender = message.get('FROM')\n",
    "    date = message.get('Date')\n",
    "    body = get_email_body(message)\n",
    "\n",
    "    \n",
    "\n",
    "    # Save the email to the folder email_backup\n",
    "    metadata = {\n",
    "    \"email_id\": id,\n",
    "    \"subject\": subject,\n",
    "    \"sender\": sender,\n",
    "    \"date\": date,\n",
    "    \"body\": body\n",
    "}\n",
    "    save_email_backup(id, message, metadata)\n",
    "\n",
    "\n",
    "    agent = LLMChain(llm = llm, prompt = classification_prompt)\n",
    "\n",
    "    result_raw = agent.invoke({\n",
    "        'header': subject,\n",
    "        'sender': sender,\n",
    "        'date': date,\n",
    "        'content': body\n",
    "    })\n",
    "    result_str = result_raw.get('text', '')\n",
    "    result = json.loads(result_str)\n",
    "    print(result['classification'])"
   ]
  }
 ],
 "metadata": {
  "kernelspec": {
   "display_name": "Python 3",
   "language": "python",
   "name": "python3"
  },
  "language_info": {
   "codemirror_mode": {
    "name": "ipython",
    "version": 3
   },
   "file_extension": ".py",
   "mimetype": "text/x-python",
   "name": "python",
   "nbconvert_exporter": "python",
   "pygments_lexer": "ipython3",
   "version": "3.10.0"
  }
 },
 "nbformat": 4,
 "nbformat_minor": 2
}
